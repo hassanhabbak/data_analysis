{
 "cells": [
  {
   "cell_type": "markdown",
   "metadata": {},
   "source": [
    "# Titanic Dataset Analysis\n",
    "## Traditional Analysis\n",
    "\n",
    "In this project, we will perform analysis on Dataset containing 891 passenger information from the ill-fated Titanic ship. The dataset contains information about the passengers as below.\n",
    "\n",
    "\n",
    "## Data Dictionary\n",
    "\n",
    "| Variable          | Definition        |\n",
    "|-------------------|-------------------|\n",
    "|   survival        | 0 = No or 1 = Yes |\n",
    "|pclass| Ticket class \t1 = 1st, 2 = 2nd, 3 = 3rd|\n",
    "|sex|sex|\n",
    "|Age|Age in years|\n",
    "|sibsp|# of siblings / spouses aboard the Titanic|\n",
    "|parch|# of parents / children aboard the Titanic|\n",
    "|ticket|Ticket number|\n",
    "|fare|Passenger fare|\n",
    "|cabin|Cabin number|\n",
    "|embarked|Port of Embarkation\tC = Cherbourg, Q = Queenstown, S = Southampton|\n",
    "\n",
    "\n",
    "We aim to explore some relationships in the dataset. The questions we are exploring are as follows:\n",
    "\n",
    "1. What factors made people more likely to survive?\n",
    "2. How did Ticket class affected survivability?\n",
    "3. How did Sex affect survivability?\n",
    "4. How did Age affect survivability?\n",
    "5. How did Age and Fare correlate?"
   ]
  },
  {
   "cell_type": "code",
   "execution_count": 505,
   "metadata": {
    "collapsed": true
   },
   "outputs": [],
   "source": [
    "import pandas as pd\n",
    "import numpy as np\n",
    "import seaborn as sns\n",
    "%matplotlib inline\n",
    "import matplotlib.pyplot as plt\n",
    "import scipy.stats as scs"
   ]
  },
  {
   "cell_type": "markdown",
   "metadata": {},
   "source": [
    "We load the data from the CSV into titanic_ds variable"
   ]
  },
  {
   "cell_type": "code",
   "execution_count": 506,
   "metadata": {},
   "outputs": [
    {
     "data": {
      "text/html": [
       "<div>\n",
       "<style>\n",
       "    .dataframe thead tr:only-child th {\n",
       "        text-align: right;\n",
       "    }\n",
       "\n",
       "    .dataframe thead th {\n",
       "        text-align: left;\n",
       "    }\n",
       "\n",
       "    .dataframe tbody tr th {\n",
       "        vertical-align: top;\n",
       "    }\n",
       "</style>\n",
       "<table border=\"1\" class=\"dataframe\">\n",
       "  <thead>\n",
       "    <tr style=\"text-align: right;\">\n",
       "      <th></th>\n",
       "      <th>PassengerId</th>\n",
       "      <th>Survived</th>\n",
       "      <th>Pclass</th>\n",
       "      <th>Age</th>\n",
       "      <th>SibSp</th>\n",
       "      <th>Parch</th>\n",
       "      <th>Fare</th>\n",
       "    </tr>\n",
       "  </thead>\n",
       "  <tbody>\n",
       "    <tr>\n",
       "      <th>count</th>\n",
       "      <td>891.000000</td>\n",
       "      <td>891.000000</td>\n",
       "      <td>891.000000</td>\n",
       "      <td>714.000000</td>\n",
       "      <td>891.000000</td>\n",
       "      <td>891.000000</td>\n",
       "      <td>891.000000</td>\n",
       "    </tr>\n",
       "    <tr>\n",
       "      <th>mean</th>\n",
       "      <td>446.000000</td>\n",
       "      <td>0.383838</td>\n",
       "      <td>2.308642</td>\n",
       "      <td>29.699118</td>\n",
       "      <td>0.523008</td>\n",
       "      <td>0.381594</td>\n",
       "      <td>32.204208</td>\n",
       "    </tr>\n",
       "    <tr>\n",
       "      <th>std</th>\n",
       "      <td>257.353842</td>\n",
       "      <td>0.486592</td>\n",
       "      <td>0.836071</td>\n",
       "      <td>14.526497</td>\n",
       "      <td>1.102743</td>\n",
       "      <td>0.806057</td>\n",
       "      <td>49.693429</td>\n",
       "    </tr>\n",
       "    <tr>\n",
       "      <th>min</th>\n",
       "      <td>1.000000</td>\n",
       "      <td>0.000000</td>\n",
       "      <td>1.000000</td>\n",
       "      <td>0.420000</td>\n",
       "      <td>0.000000</td>\n",
       "      <td>0.000000</td>\n",
       "      <td>0.000000</td>\n",
       "    </tr>\n",
       "    <tr>\n",
       "      <th>25%</th>\n",
       "      <td>223.500000</td>\n",
       "      <td>0.000000</td>\n",
       "      <td>2.000000</td>\n",
       "      <td>20.125000</td>\n",
       "      <td>0.000000</td>\n",
       "      <td>0.000000</td>\n",
       "      <td>7.910400</td>\n",
       "    </tr>\n",
       "    <tr>\n",
       "      <th>50%</th>\n",
       "      <td>446.000000</td>\n",
       "      <td>0.000000</td>\n",
       "      <td>3.000000</td>\n",
       "      <td>28.000000</td>\n",
       "      <td>0.000000</td>\n",
       "      <td>0.000000</td>\n",
       "      <td>14.454200</td>\n",
       "    </tr>\n",
       "    <tr>\n",
       "      <th>75%</th>\n",
       "      <td>668.500000</td>\n",
       "      <td>1.000000</td>\n",
       "      <td>3.000000</td>\n",
       "      <td>38.000000</td>\n",
       "      <td>1.000000</td>\n",
       "      <td>0.000000</td>\n",
       "      <td>31.000000</td>\n",
       "    </tr>\n",
       "    <tr>\n",
       "      <th>max</th>\n",
       "      <td>891.000000</td>\n",
       "      <td>1.000000</td>\n",
       "      <td>3.000000</td>\n",
       "      <td>80.000000</td>\n",
       "      <td>8.000000</td>\n",
       "      <td>6.000000</td>\n",
       "      <td>512.329200</td>\n",
       "    </tr>\n",
       "  </tbody>\n",
       "</table>\n",
       "</div>"
      ],
      "text/plain": [
       "       PassengerId    Survived      Pclass         Age       SibSp  \\\n",
       "count   891.000000  891.000000  891.000000  714.000000  891.000000   \n",
       "mean    446.000000    0.383838    2.308642   29.699118    0.523008   \n",
       "std     257.353842    0.486592    0.836071   14.526497    1.102743   \n",
       "min       1.000000    0.000000    1.000000    0.420000    0.000000   \n",
       "25%     223.500000    0.000000    2.000000   20.125000    0.000000   \n",
       "50%     446.000000    0.000000    3.000000   28.000000    0.000000   \n",
       "75%     668.500000    1.000000    3.000000   38.000000    1.000000   \n",
       "max     891.000000    1.000000    3.000000   80.000000    8.000000   \n",
       "\n",
       "            Parch        Fare  \n",
       "count  891.000000  891.000000  \n",
       "mean     0.381594   32.204208  \n",
       "std      0.806057   49.693429  \n",
       "min      0.000000    0.000000  \n",
       "25%      0.000000    7.910400  \n",
       "50%      0.000000   14.454200  \n",
       "75%      0.000000   31.000000  \n",
       "max      6.000000  512.329200  "
      ]
     },
     "execution_count": 506,
     "metadata": {},
     "output_type": "execute_result"
    }
   ],
   "source": [
    "titanic_ds = pd.read_csv('./titanic-data.csv')\n",
    "titanic_ds.describe()"
   ]
  },
  {
   "cell_type": "markdown",
   "metadata": {},
   "source": [
    "## Cleaning the Data\n",
    "\n",
    "We list the number of missing values in the table."
   ]
  },
  {
   "cell_type": "code",
   "execution_count": 507,
   "metadata": {},
   "outputs": [
    {
     "data": {
      "text/plain": [
       "PassengerId      0\n",
       "Survived         0\n",
       "Pclass           0\n",
       "Name             0\n",
       "Sex              0\n",
       "Age            177\n",
       "SibSp            0\n",
       "Parch            0\n",
       "Ticket           0\n",
       "Fare             0\n",
       "Cabin          687\n",
       "Embarked         2\n",
       "dtype: int64"
      ]
     },
     "execution_count": 507,
     "metadata": {},
     "output_type": "execute_result"
    }
   ],
   "source": [
    "titanic_ds.isnull().sum()"
   ]
  },
  {
   "cell_type": "markdown",
   "metadata": {},
   "source": [
    "There are a 177 missing values in Age. With that many ages missing, it makes me believe that the dataset was extracted from the ticket passenger logs for the Titanic and they were not able to easily match it to civil data for the passengers themselves. We will have to correct this data.\n",
    "\n",
    "There are 687 Cabin information values missing. This makes the cabin information unsuable at this point since we have very little data to extrapolate from. The reason for the missing data is likely because of a loss of data on the topic. Possibly the logs were kept on the Titanic itself. This is just an assumption.\n",
    "\n",
    "There are two missing data values on Embarked. This is very little data lost and we can safely ignore it for the purpose of this analysis. The reason for the loss is unknown. Could be clerical error."
   ]
  },
  {
   "cell_type": "markdown",
   "metadata": {},
   "source": [
    "#### First we clean the data. Converting Sex male/female into 0/1 to make finding a correlation easier."
   ]
  },
  {
   "cell_type": "code",
   "execution_count": 508,
   "metadata": {},
   "outputs": [
    {
     "data": {
      "text/plain": [
       "False"
      ]
     },
     "execution_count": 508,
     "metadata": {},
     "output_type": "execute_result"
    }
   ],
   "source": [
    "def setSex(sexSTR):\n",
    "    if sexSTR == \"male\":\n",
    "        return 0\n",
    "    else:\n",
    "        return 1\n",
    "titanic_ds['Sex'] = titanic_ds['Sex'].apply(setSex)\n",
    "titanic_ds['Sex'].isnull().values.any()"
   ]
  },
  {
   "cell_type": "markdown",
   "metadata": {},
   "source": [
    "#### Now we convert the port embarked from to numerical data. C = 1, Q = 2, S = 3\n",
    "\n",
    "Also we will fill the missing data with a random number"
   ]
  },
  {
   "cell_type": "code",
   "execution_count": 509,
   "metadata": {},
   "outputs": [],
   "source": [
    "def setPort(portSTR):\n",
    "    if portSTR == \"C\":\n",
    "        return 1\n",
    "    elif portSTR == \"Q\":\n",
    "        return 2\n",
    "    elif portSTR == \"S\":\n",
    "        return 3\n",
    "    else:\n",
    "        return random.randint(1,3)\n",
    "titanic_ds['Embarked'] = titanic_ds['Embarked'].apply(setPort)"
   ]
  },
  {
   "cell_type": "markdown",
   "metadata": {},
   "source": [
    "#### Correcting missing Ages\n",
    "\n",
    "We can fill in those with random values between +/- std from the mean."
   ]
  },
  {
   "cell_type": "code",
   "execution_count": 510,
   "metadata": {},
   "outputs": [],
   "source": [
    "import random\n",
    "def single_num(n, mean, std):\n",
    "    # Repeats until a number within the scale is found.\n",
    "    while 1:\n",
    "        num = np.random.normal(loc=mean, scale=std)\n",
    "        if abs(mean-num) <= (std * n):\n",
    "            return num\n",
    "titanic_ds['Age'].describe()\n",
    "age_mean = titanic_ds['Age'].mean()\n",
    "age_std = titanic_ds['Age'].std()\n",
    "np.random.normal(age_mean, age_std, 1)\n",
    "titanic_ds['Age'] = titanic_ds['Age'].apply(lambda x: single_num(age_mean, age_std, 1) if(np.isnan(x)) else x)"
   ]
  },
  {
   "cell_type": "markdown",
   "metadata": {},
   "source": [
    "## Correlation\n",
    "\n",
    "** - What variables correlated with survivability? **\n",
    "\n",
    "Now we use Pearsons correlation to find the correlation between the variables and the survival of the passenger."
   ]
  },
  {
   "cell_type": "code",
   "execution_count": 511,
   "metadata": {},
   "outputs": [
    {
     "name": "stdout",
     "output_type": "stream",
     "text": [
      "PassengerId   -0.005007\n",
      "Survived       1.000000\n",
      "Pclass        -0.338481\n",
      "Sex            0.543351\n",
      "Age           -0.023925\n",
      "SibSp         -0.035322\n",
      "Parch          0.081629\n",
      "Fare           0.257307\n",
      "Embarked      -0.169462\n",
      "Name: Survived, dtype: float64\n"
     ]
    }
   ],
   "source": [
    "correlation = titanic_ds.corr()['Survived']\n",
    "print(correlation)"
   ]
  },
  {
   "cell_type": "markdown",
   "metadata": {},
   "source": [
    "We will lay down a graph plotting pearson's correlation to variables in the dataset to find the highest correlating factors to survivability."
   ]
  },
  {
   "cell_type": "code",
   "execution_count": 512,
   "metadata": {},
   "outputs": [
    {
     "data": {
      "text/plain": [
       "<matplotlib.axes._subplots.AxesSubplot at 0x1196fd2b0>"
      ]
     },
     "execution_count": 512,
     "metadata": {},
     "output_type": "execute_result"
    },
    {
     "data": {
      "image/png": "[encoded data removed]",
      "text/plain": [
       "<matplotlib.figure.Figure at 0x1196f4828>"
      ]
     },
     "metadata": {},
     "output_type": "display_data"
    }
   ],
   "source": [
    "correlation.plot(kind='bar', title = 'Pearson correlation by variable')"
   ]
  },
  {
   "cell_type": "markdown",
   "metadata": {},
   "source": [
    "From the above correlation graph, it looks like the best candidates for a strong correlations are as follows.\n",
    "\n",
    "1. Pclass: Negative correlation\n",
    "2. Sex: Positive correlation\n",
    "3. fare: Positive correlation\n",
    "4. Embarked: Negative correlation\n",
    "\n",
    "However some of those variables are categorical rather than continous. Because of that Pearson's test might not be the best. So we will use chi square test to verify our findings."
   ]
  },
  {
   "cell_type": "code",
   "execution_count": 513,
   "metadata": {
    "collapsed": true
   },
   "outputs": [],
   "source": [
    "def chi_square_of_df_cols(df,col1,col2):\n",
    "    return scs.chi2_contingency([\n",
    "        [\n",
    "            len(df[(df[col1] == cat) & (df[col2] == cat2)])\n",
    "            for cat2 in range(int(df[col1].min()), int(df[col1].max()) + 1)\n",
    "        ]\n",
    "        for cat in range(int(df[col2].min()), int(df[col2].max()) + 1)\n",
    "    ])"
   ]
  },
  {
   "cell_type": "code",
   "execution_count": 514,
   "metadata": {},
   "outputs": [
    {
     "data": {
      "text/html": [
       "<div>\n",
       "<style>\n",
       "    .dataframe thead tr:only-child th {\n",
       "        text-align: right;\n",
       "    }\n",
       "\n",
       "    .dataframe thead th {\n",
       "        text-align: left;\n",
       "    }\n",
       "\n",
       "    .dataframe tbody tr th {\n",
       "        vertical-align: top;\n",
       "    }\n",
       "</style>\n",
       "<table border=\"1\" class=\"dataframe\">\n",
       "  <thead>\n",
       "    <tr style=\"text-align: right;\">\n",
       "      <th></th>\n",
       "      <th>Age</th>\n",
       "      <th>Embarked</th>\n",
       "      <th>Fare</th>\n",
       "      <th>Parch</th>\n",
       "      <th>Pclass</th>\n",
       "      <th>Sex</th>\n",
       "      <th>SibSp</th>\n",
       "    </tr>\n",
       "  </thead>\n",
       "  <tbody>\n",
       "    <tr>\n",
       "      <th>P Value</th>\n",
       "      <td>0.402021</td>\n",
       "      <td>0.000002</td>\n",
       "      <td>1.164764e-11</td>\n",
       "      <td>0.000097</td>\n",
       "      <td>4.549252e-23</td>\n",
       "      <td>1.197357e-58</td>\n",
       "      <td>0.000002</td>\n",
       "    </tr>\n",
       "  </tbody>\n",
       "</table>\n",
       "</div>"
      ],
      "text/plain": [
       "              Age  Embarked          Fare     Parch        Pclass  \\\n",
       "P Value  0.402021  0.000002  1.164764e-11  0.000097  4.549252e-23   \n",
       "\n",
       "                  Sex     SibSp  \n",
       "P Value  1.197357e-58  0.000002  "
      ]
     },
     "execution_count": 514,
     "metadata": {},
     "output_type": "execute_result"
    }
   ],
   "source": [
    "d = {'Pclass' : pd.Series([chisq_of_df_cols(titanic_ds, 'Survived', 'Pclass')[1]], index=['P Value']),\n",
    "     'Sex' : pd.Series([chisq_of_df_cols(titanic_ds, 'Survived', 'Sex')[1]], index=['P Value']),\n",
    "    'Age' : pd.Series([chisq_of_df_cols(titanic_ds, 'Survived', 'Age')[1]], index=['P Value']),\n",
    "    'SibSp' : pd.Series([chisq_of_df_cols(titanic_ds, 'Survived', 'SibSp')[1]], index=['P Value']),\n",
    "    'Parch' : pd.Series([chisq_of_df_cols(titanic_ds, 'Survived', 'Parch')[1]], index=['P Value']),\n",
    "    'Fare' : pd.Series([chisq_of_df_cols(titanic_ds, 'Survived', 'Fare')[1]], index=['P Value']),\n",
    "    'Embarked' : pd.Series([chisq_of_df_cols(titanic_ds, 'Survived', 'Embarked')[1]], index=['P Value'])}\n",
    "\n",
    "chi_square_values = pd.DataFrame(d, index=['P Value'])\n",
    "chi_square_values"
   ]
  },
  {
   "cell_type": "markdown",
   "metadata": {},
   "source": [
    "From the above analysis, it shows that the test for independence further eleminates SibSP, Parch, Age, Embarked. While they do show some correlation, compared to Fare, Class, Sex it is not as strong. We will further explore those three Variables\n",
    "\n",
    "1. Pclass\n",
    "2. Sex\n",
    "3. fare"
   ]
  },
  {
   "cell_type": "markdown",
   "metadata": {},
   "source": [
    "## Total number of survivors to fatality\n",
    "\n",
    "We explore the number survivors to fatality to get an idea of the scale of the disaster.\n",
    "\n",
    "** - How many people survived compared to fatality on the boat?**"
   ]
  },
  {
   "cell_type": "markdown",
   "metadata": {},
   "source": [
    "We lay down a graph plotting the number of survivors to fatalities on the ship to get an idea of the number difference."
   ]
  },
  {
   "cell_type": "code",
   "execution_count": 515,
   "metadata": {},
   "outputs": [
    {
     "data": {
      "image/png": "[encoded data removed]",
      "text/plain": [
       "<matplotlib.figure.Figure at 0x1196ed780>"
      ]
     },
     "metadata": {},
     "output_type": "display_data"
    }
   ],
   "source": [
    "survivors_grouped = (titanic_ds.groupby(['Survived'])).count().unstack('Survived')['PassengerId']\n",
    "survivors_grouped.plot.barh(title = 'Passengers survived to fatality Count', stacked=True)\n",
    "plt.xlabel('Number of People')\n",
    "plt.show()"
   ]
  },
  {
   "cell_type": "markdown",
   "metadata": {},
   "source": [
    "From a first glance it looks like there were much more death than survivors on the ship."
   ]
  },
  {
   "cell_type": "markdown",
   "metadata": {},
   "source": [
    "We plot the ratios of survivors to death to get an idea of the percentages of survivability on the ship."
   ]
  },
  {
   "cell_type": "code",
   "execution_count": 516,
   "metadata": {},
   "outputs": [
    {
     "data": {
      "text/plain": [
       "<matplotlib.axes._subplots.AxesSubplot at 0x119758940>"
      ]
     },
     "execution_count": 516,
     "metadata": {},
     "output_type": "execute_result"
    },
    {
     "data": {
      "image/png": "[encoded data removed]",
      "text/plain": [
       "<matplotlib.figure.Figure at 0x119227748>"
      ]
     },
     "metadata": {},
     "output_type": "display_data"
    }
   ],
   "source": [
    "survivors_grouped.plot.pie(title = 'Passengers survived to fatality Percentage',\n",
    "                           label= \"Survivor ratio\", labels=['Fatality','Survivors'],\n",
    "                           autopct='%1.1f%%')"
   ]
  },
  {
   "cell_type": "markdown",
   "metadata": {},
   "source": [
    "From the above data,we can say that 61.6% of the passengers died while 38.4% survived. This conclusion is based on the sample data which could be biased, but gives us an idea of the scale of the disaster."
   ]
  },
  {
   "cell_type": "markdown",
   "metadata": {},
   "source": [
    "## Ticket Class as factor  to surviving\n",
    "\n",
    "In this section we explore the relation between surviving and the Ticket class.\n",
    "\n",
    "** - How did the ticket class affect surviability chance?**"
   ]
  },
  {
   "cell_type": "markdown",
   "metadata": {},
   "source": [
    "We first plot the cross tabulation of survivability to ticket class to get an idea of the ratio and the effect of ticket class on survivability"
   ]
  },
  {
   "cell_type": "code",
   "execution_count": 517,
   "metadata": {},
   "outputs": [
    {
     "data": {
      "text/html": [
       "<div>\n",
       "<style>\n",
       "    .dataframe thead tr:only-child th {\n",
       "        text-align: right;\n",
       "    }\n",
       "\n",
       "    .dataframe thead th {\n",
       "        text-align: left;\n",
       "    }\n",
       "\n",
       "    .dataframe tbody tr th {\n",
       "        vertical-align: top;\n",
       "    }\n",
       "</style>\n",
       "<table border=\"1\" class=\"dataframe\">\n",
       "  <thead>\n",
       "    <tr style=\"text-align: right;\">\n",
       "      <th>Survived</th>\n",
       "      <th>0</th>\n",
       "      <th>1</th>\n",
       "      <th>All</th>\n",
       "    </tr>\n",
       "    <tr>\n",
       "      <th>Pclass</th>\n",
       "      <th></th>\n",
       "      <th></th>\n",
       "      <th></th>\n",
       "    </tr>\n",
       "  </thead>\n",
       "  <tbody>\n",
       "    <tr>\n",
       "      <th>1</th>\n",
       "      <td>80</td>\n",
       "      <td>136</td>\n",
       "      <td>216</td>\n",
       "    </tr>\n",
       "    <tr>\n",
       "      <th>2</th>\n",
       "      <td>97</td>\n",
       "      <td>87</td>\n",
       "      <td>184</td>\n",
       "    </tr>\n",
       "    <tr>\n",
       "      <th>3</th>\n",
       "      <td>372</td>\n",
       "      <td>119</td>\n",
       "      <td>491</td>\n",
       "    </tr>\n",
       "    <tr>\n",
       "      <th>All</th>\n",
       "      <td>549</td>\n",
       "      <td>342</td>\n",
       "      <td>891</td>\n",
       "    </tr>\n",
       "  </tbody>\n",
       "</table>\n",
       "</div>"
      ],
      "text/plain": [
       "Survived    0    1  All\n",
       "Pclass                 \n",
       "1          80  136  216\n",
       "2          97   87  184\n",
       "3         372  119  491\n",
       "All       549  342  891"
      ]
     },
     "execution_count": 517,
     "metadata": {},
     "output_type": "execute_result"
    }
   ],
   "source": [
    "class_ct = pd.crosstab(titanic_ds.Pclass, titanic_ds.Survived, margins=True)\n",
    "class_ct"
   ]
  },
  {
   "cell_type": "code",
   "execution_count": 518,
   "metadata": {},
   "outputs": [
    {
     "data": {
      "image/png": "[encoded data removed]",
      "text/plain": [
       "<matplotlib.figure.Figure at 0x1191434a8>"
      ]
     },
     "metadata": {},
     "output_type": "display_data"
    }
   ],
   "source": [
    "class_ct[[0,1]].plot(title = 'Class ticket effect on surviving',\n",
    "                     kind='bar', stacked=False)\n",
    "plt.ylabel('Number of People')\n",
    "plt.xlabel(\"Passenger classes\")\n",
    "plt.legend(['Died', 'Survived'])\n",
    "plt.show()"
   ]
  },
  {
   "cell_type": "markdown",
   "metadata": {
    "collapsed": true
   },
   "source": [
    "From the above we can definetly see a correlation between how high the ticket class and the ratio of survivors to dead. It seems that more people survived than died in class 1. Almost the same amount of people died to survived in class 2. Class 3 there is more than twice dead to survived there."
   ]
  },
  {
   "cell_type": "markdown",
   "metadata": {},
   "source": [
    "## Sex as a factor to surviving\n",
    "\n",
    "In this section we explore the relation between sex and the survivability of the passenger.\n",
    "\n",
    "** - What is the relationship between sex and survivability?**"
   ]
  },
  {
   "cell_type": "markdown",
   "metadata": {},
   "source": [
    "We plot the sruvivors rate grouped with sex to get an idea about the effect of sex on survivability. "
   ]
  },
  {
   "cell_type": "code",
   "execution_count": 519,
   "metadata": {},
   "outputs": [
    {
     "data": {
      "image/png": "[encoded data removed]",
      "text/plain": [
       "<matplotlib.figure.Figure at 0x11993d0f0>"
      ]
     },
     "metadata": {},
     "output_type": "display_data"
    },
    {
     "data": {
      "text/html": [
       "<div>\n",
       "<style>\n",
       "    .dataframe thead tr:only-child th {\n",
       "        text-align: right;\n",
       "    }\n",
       "\n",
       "    .dataframe thead th {\n",
       "        text-align: left;\n",
       "    }\n",
       "\n",
       "    .dataframe tbody tr th {\n",
       "        vertical-align: top;\n",
       "    }\n",
       "</style>\n",
       "<table border=\"1\" class=\"dataframe\">\n",
       "  <thead>\n",
       "    <tr style=\"text-align: right;\">\n",
       "      <th>Sex</th>\n",
       "      <th>0</th>\n",
       "      <th>1</th>\n",
       "    </tr>\n",
       "    <tr>\n",
       "      <th>Survived</th>\n",
       "      <th></th>\n",
       "      <th></th>\n",
       "    </tr>\n",
       "  </thead>\n",
       "  <tbody>\n",
       "    <tr>\n",
       "      <th>0</th>\n",
       "      <td>468</td>\n",
       "      <td>81</td>\n",
       "    </tr>\n",
       "    <tr>\n",
       "      <th>1</th>\n",
       "      <td>109</td>\n",
       "      <td>233</td>\n",
       "    </tr>\n",
       "  </tbody>\n",
       "</table>\n",
       "</div>"
      ],
      "text/plain": [
       "Sex         0    1\n",
       "Survived          \n",
       "0         468   81\n",
       "1         109  233"
      ]
     },
     "execution_count": 519,
     "metadata": {},
     "output_type": "execute_result"
    }
   ],
   "source": [
    "sex_grouped = (titanic_ds.groupby(['Survived', 'Sex'])).count().unstack('Sex')['PassengerId']\n",
    "sex_grouped[[0,1]].plot(title = 'Class ticket effect on surviving', kind='bar', stacked=True)\n",
    "plt.ylabel('Number of People')\n",
    "plt.xlabel(\"Passenger classes\")\n",
    "plt.legend(['male', 'female'])\n",
    "plt.show()\n",
    "sex_grouped"
   ]
  },
  {
   "cell_type": "markdown",
   "metadata": {},
   "source": [
    "From this graph we can say that there were more women who survived than died in the disaster. It was the opposite relationship for men on the ship as more men died than survived."
   ]
  },
  {
   "cell_type": "markdown",
   "metadata": {},
   "source": [
    "We will plot the pie charts of male surviving rates and female surviving rates seperately to get an idea about the percentage surviving ratios on the ship."
   ]
  },
  {
   "cell_type": "code",
   "execution_count": 520,
   "metadata": {},
   "outputs": [
    {
     "data": {
      "text/plain": [
       "<matplotlib.axes._subplots.AxesSubplot at 0x1198ae630>"
      ]
     },
     "execution_count": 520,
     "metadata": {},
     "output_type": "execute_result"
    },
    {
     "data": {
      "image/png": "[encoded data removed]",
      "text/plain": [
       "<matplotlib.figure.Figure at 0x119913f60>"
      ]
     },
     "metadata": {},
     "output_type": "display_data"
    }
   ],
   "source": [
    "sex_grouped[0].plot.pie(title = 'Male survived to Fatality Ratio',\n",
    "                        label= \"Survivor ratio\", labels=['male died','male survived'],\n",
    "                        autopct='%1.1f%%')"
   ]
  },
  {
   "cell_type": "code",
   "execution_count": 521,
   "metadata": {},
   "outputs": [
    {
     "data": {
      "text/plain": [
       "<matplotlib.axes._subplots.AxesSubplot at 0x1199a1198>"
      ]
     },
     "execution_count": 521,
     "metadata": {},
     "output_type": "execute_result"
    },
    {
     "data": {
      "image/png": "[encoded data removed]",
      "text/plain": [
       "<matplotlib.figure.Figure at 0x119aa80f0>"
      ]
     },
     "metadata": {},
     "output_type": "display_data"
    }
   ],
   "source": [
    "sex_grouped[1].plot.pie(title = 'Female survived to Fatality Ratio',\n",
    "                        label= \"Survivor ratio\", labels=['female died','female survived'], \n",
    "                        autopct='%1.1f%%')"
   ]
  },
  {
   "cell_type": "markdown",
   "metadata": {},
   "source": [
    "During the disaster, it looks like 74.2% of women survived as opposed to only 18.9% survived. While there were less women than men on board, it still indicates that women had a better survivability chance onboard."
   ]
  },
  {
   "cell_type": "markdown",
   "metadata": {},
   "source": [
    "## Age as a factor to surviving\n",
    "\n",
    "In this section we explore the relationship between age and survivability on the ship.\n",
    "\n",
    "** - What is the relationship between Age and survivability?**"
   ]
  },
  {
   "cell_type": "markdown",
   "metadata": {},
   "source": [
    "We will plot the curve of age vs survivability to see what age had the most survivors and most casualties. "
   ]
  },
  {
   "cell_type": "code",
   "execution_count": 522,
   "metadata": {},
   "outputs": [
    {
     "data": {
      "image/png": "[encoded data removed]",
      "text/plain": [
       "<matplotlib.figure.Figure at 0x119ba6c88>"
      ]
     },
     "metadata": {},
     "output_type": "display_data"
    }
   ],
   "source": [
    "facet = sns.FacetGrid(titanic_ds, hue=\"Survived\",aspect=4)\n",
    "plt.gcf().suptitle('Survival by Age')\n",
    "facet.map(sns.kdeplot,'Age',shade= True)\n",
    "facet.set(xlim=(0, titanic_ds['Age'].max()))\n",
    "facet.add_legend()\n",
    "plt.show()"
   ]
  },
  {
   "cell_type": "markdown",
   "metadata": {},
   "source": [
    "From this graph, it looks like children from the age of 9 and below more survived than died. While between the age of 10 and 27 there was more dead than alive. This trend reverses slightly later with more alive than dead between the age of 28 to 43."
   ]
  },
  {
   "cell_type": "markdown",
   "metadata": {},
   "source": [
    "## Correlation between age and fare\n",
    "\n",
    "From the previous analysis on age and survivability, would be interesting to see if there is a correlation between age and fare (ticket class) since we established ticket class as an important factor deciding survivability.\n",
    "\n",
    "** - What is the correlation between age and fare?**"
   ]
  },
  {
   "cell_type": "code",
   "execution_count": 523,
   "metadata": {},
   "outputs": [
    {
     "name": "stdout",
     "output_type": "stream",
     "text": [
      "Pearson Correlation between Age and Fare is 0.125161560908\n"
     ]
    }
   ],
   "source": [
    "correlation = titanic_ds[[\"Age\", \"Fare\"]].corr()['Fare']\n",
    "print (\"Pearson Correlation between Age and Fare is\",correlation[0])"
   ]
  },
  {
   "cell_type": "markdown",
   "metadata": {},
   "source": [
    "This makes the correlation between age and fare fairly low."
   ]
  },
  {
   "cell_type": "markdown",
   "metadata": {},
   "source": [
    "# Conclusion\n",
    "\n",
    "Through the analysis done here, we can say that women and children of upper class tickets had the best chance for survivability on the Titanic. This is however a very tentative conclusion since there might have been other factors unexplored in this analysis. The dataset was far from perfect as we do not know how was the sample was selected so there could have been a bias, either intentionally or unintentionally. As well as missing values in the data set, some could have been corrected while others were far too severe and were excluded altogether. "
   ]
  },
  {
   "cell_type": "code",
   "execution_count": null,
   "metadata": {
    "collapsed": true
   },
   "outputs": [],
   "source": []
  }
 ],
 "metadata": {
  "kernelspec": {
   "display_name": "Python [conda env:data_analysis]",
   "language": "python",
   "name": "conda-env-data_analysis-py"
  },
  "language_info": {
   "codemirror_mode": {
    "name": "ipython",
    "version": 3
   },
   "file_extension": ".py",
   "mimetype": "text/x-python",
   "name": "python",
   "nbconvert_exporter": "python",
   "pygments_lexer": "ipython3",
   "version": "3.6.2"
  }
 },
 "nbformat": 4,
 "nbformat_minor": 2
}
